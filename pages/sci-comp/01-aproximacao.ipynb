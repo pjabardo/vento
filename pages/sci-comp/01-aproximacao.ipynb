{
 "cells": [
  {
   "cell_type": "markdown",
   "metadata": {},
   "source": [
    "# Aproximação\n",
    "\n",
    "Como aproximar um conjunto de dados usando uma sequência de funções simples?\n",
    "\n",
    " * Polinômios\n",
    " * Interpolação - Introdução\n",
    " * Interpolação de Lagrange\n",
    " * Método dos mínimos quadrados\n",
    " * Códigos"
   ]
  },
  {
   "cell_type": "markdown",
   "metadata": {},
   "source": [
    "# Introdução\n",
    "\n",
    "Qual o objetivo?\n",
    "\n",
    " 1. Modelar dados experimentais\n",
    " 2. Aproximar uma função complexa usando funções mais simples\n",
    "\n",
    "Dada uma função $u(x)$ queremos aproximá-la usando um conjunto de funções que são, de alguma, forma convenientes:\n",
    "\n",
    "$$\n",
    "u \\approx u^\\delta (x) = \\sum_{i=1}^N \\hat{u}_i \\phi_i(x)\n",
    "$$\n",
    "\n",
    "\n",
    "Porque queremos fazer isso? \n",
    "\n",
    " * Funções muito complexas \n",
    " * Funções que não são conhecidas explicitamente (algumas funções especiais)\n",
    " * Queremos desempenho na hora de calcular as funções: praticamente todas as funções básicas são aproximadas utilizando polinômios (muitas vezes polinômios racionais)\n",
    " * Quando conhecemos apenas alguns pontos da função: sempre que você tiver um experimento ou estiver processando dados de uma sequência de simulações numéricas.\n",
    " \n",
    " \n",
    " \n"
   ]
  },
  {
   "cell_type": "code",
   "execution_count": 2,
   "metadata": {},
   "outputs": [
    {
     "data": {
      "text/html": [
       "# 12 methods for generic function <b>sin</b>:<ul><li> sin(x::<b>BigFloat</b>) in Base.MPFR at <a href=\"https://github.com/JuliaLang/julia/tree/381693d3dfc9b7072707f6d544f82f6637fc5e7c/base/mpfr.jl#L744\" target=\"_blank\">mpfr.jl:744</a></li> <li> sin(::<b>Missing</b>) in Base.Math at <a href=\"https://github.com/JuliaLang/julia/tree/381693d3dfc9b7072707f6d544f82f6637fc5e7c/base/math.jl#L1167\" target=\"_blank\">math.jl:1167</a></li> <li> sin(a::<b>Complex{Float16}</b>) in Base.Math at <a href=\"https://github.com/JuliaLang/julia/tree/381693d3dfc9b7072707f6d544f82f6637fc5e7c/base/math.jl#L1115\" target=\"_blank\">math.jl:1115</a></li> <li> sin(a::<b>Float16</b>) in Base.Math at <a href=\"https://github.com/JuliaLang/julia/tree/381693d3dfc9b7072707f6d544f82f6637fc5e7c/base/math.jl#L1114\" target=\"_blank\">math.jl:1114</a></li> <li> sin(z::<b>Complex{T}</b>)<i> where T</i> in Base at <a href=\"https://github.com/JuliaLang/julia/tree/381693d3dfc9b7072707f6d544f82f6637fc5e7c/base/complex.jl#L805\" target=\"_blank\">complex.jl:805</a></li> <li> sin(x::<b>T</b>)<i> where T<:Union{Float32, Float64}</i> in Base.Math at <a href=\"https://github.com/JuliaLang/julia/tree/381693d3dfc9b7072707f6d544f82f6637fc5e7c/base/special/trig.jl#L30\" target=\"_blank\">special/trig.jl:30</a></li> <li> sin(x::<b>Real</b>) in Base.Math at <a href=\"https://github.com/JuliaLang/julia/tree/381693d3dfc9b7072707f6d544f82f6637fc5e7c/base/special/trig.jl#L53\" target=\"_blank\">special/trig.jl:53</a></li> <li> sin(A::<b>LinearAlgebra.Hermitian{#s663,S} where S<:(AbstractArray{#s664,2} where #s664<:#s663) where #s663<:Complex</b>) in LinearAlgebra at <a href=\"file:///buildworker/worker/package_linux64/build/usr/share/julia/stdlib/v1.4/LinearAlgebra/src/symmetric.jl\" target=\"_blank\">/opt/julia-1.4.1/share/julia/stdlib/v1.4/LinearAlgebra/src/symmetric.jl:907</a></li> <li> sin(A::<b>Union{LinearAlgebra.Hermitian{#s664,S}, LinearAlgebra.Symmetric{#s664,S}} where S where #s664<:Real</b>) in LinearAlgebra at <a href=\"file:///buildworker/worker/package_linux64/build/usr/share/julia/stdlib/v1.4/LinearAlgebra/src/symmetric.jl\" target=\"_blank\">/opt/julia-1.4.1/share/julia/stdlib/v1.4/LinearAlgebra/src/symmetric.jl:903</a></li> <li> sin(D::<b>LinearAlgebra.Diagonal</b>) in LinearAlgebra at <a href=\"file:///buildworker/worker/package_linux64/build/usr/share/julia/stdlib/v1.4/LinearAlgebra/src/diagonal.jl\" target=\"_blank\">/opt/julia-1.4.1/share/julia/stdlib/v1.4/LinearAlgebra/src/diagonal.jl:561</a></li> <li> sin(A::<b>AbstractArray{#s664,2} where #s664<:Real</b>) in LinearAlgebra at <a href=\"file:///buildworker/worker/package_linux64/build/usr/share/julia/stdlib/v1.4/LinearAlgebra/src/dense.jl\" target=\"_blank\">/opt/julia-1.4.1/share/julia/stdlib/v1.4/LinearAlgebra/src/dense.jl:826</a></li> <li> sin(A::<b>AbstractArray{#s664,2} where #s664<:Complex</b>) in LinearAlgebra at <a href=\"file:///buildworker/worker/package_linux64/build/usr/share/julia/stdlib/v1.4/LinearAlgebra/src/dense.jl\" target=\"_blank\">/opt/julia-1.4.1/share/julia/stdlib/v1.4/LinearAlgebra/src/dense.jl:833</a></li> </ul>"
      ],
      "text/plain": [
       "# 12 methods for generic function \"sin\":\n",
       "[1] sin(x::BigFloat) in Base.MPFR at mpfr.jl:744\n",
       "[2] sin(::Missing) in Base.Math at math.jl:1167\n",
       "[3] sin(a::Complex{Float16}) in Base.Math at math.jl:1115\n",
       "[4] sin(a::Float16) in Base.Math at math.jl:1114\n",
       "[5] sin(z::Complex{T}) where T in Base at complex.jl:805\n",
       "[6] sin(x::T) where T<:Union{Float32, Float64} in Base.Math at special/trig.jl:30\n",
       "[7] sin(x::Real) in Base.Math at special/trig.jl:53\n",
       "[8] sin(A::LinearAlgebra.Hermitian{#s663,S} where S<:(AbstractArray{#s664,2} where #s664<:#s663) where #s663<:Complex) in LinearAlgebra at /opt/julia-1.4.1/share/julia/stdlib/v1.4/LinearAlgebra/src/symmetric.jl:907\n",
       "[9] sin(A::Union{LinearAlgebra.Hermitian{#s664,S}, LinearAlgebra.Symmetric{#s664,S}} where S where #s664<:Real) in LinearAlgebra at /opt/julia-1.4.1/share/julia/stdlib/v1.4/LinearAlgebra/src/symmetric.jl:903\n",
       "[10] sin(D::LinearAlgebra.Diagonal) in LinearAlgebra at /opt/julia-1.4.1/share/julia/stdlib/v1.4/LinearAlgebra/src/diagonal.jl:561\n",
       "[11] sin(A::AbstractArray{#s664,2} where #s664<:Real) in LinearAlgebra at /opt/julia-1.4.1/share/julia/stdlib/v1.4/LinearAlgebra/src/dense.jl:826\n",
       "[12] sin(A::AbstractArray{#s664,2} where #s664<:Complex) in LinearAlgebra at /opt/julia-1.4.1/share/julia/stdlib/v1.4/LinearAlgebra/src/dense.jl:833"
      ]
     },
     "execution_count": 2,
     "metadata": {},
     "output_type": "execute_result"
    }
   ],
   "source": [
    "methods(sin)"
   ]
  },
  {
   "cell_type": "markdown",
   "metadata": {},
   "source": [
    "## Interpolação\n",
    "\n",
    "É lógico que, em geral, a aproximação é apenas uma aproximação! Então existe um erro:\n",
    "\n",
    "$$\n",
    "u(x) - u^\\delta(x) = \\varepsilon(x)\n",
    "$$\n",
    "\n",
    "A idéia é minimizar este erro de alguma forma.\n",
    "\n",
    "Uma possibilidade é escolher $N$ pontos $x_i$ e impor que o erro é zero nestes pontos:\n",
    "\n",
    "$$\n",
    "\\varepsilon(x_i) = 0 \\qquad i=1, \\ldots, N\n",
    "$$\n",
    "\n",
    "Esta abordagem é conhecida na literatura como colocação. Se a função $u(x)$ é conhecida apenas por alguns pontos $(x_i, u_i)$ isto é chamado de *interpolação*.\n",
    "\n",
    "Isto resulta num sistema de equações lineares:\n",
    "\n",
    "$$\n",
    "\\left(\\begin{matrix}\n",
    "\\phi_1(x_1) & \\phi_2(x_1) & \\cdots & \\phi_N(x_1) \\\\\n",
    "\\phi_1(x_2) & \\phi_2(x_2) & \\cdots & \\phi_N(x_2) \\\\\n",
    "\\vdots & \\vdots & \\ddots & \\vdots \\\\\n",
    "\\phi_1(x_N) & \\phi_2(x_N) & \\cdots & \\phi_N(x_N) \\\\\n",
    "\\end{matrix}\\right)\n",
    "\\cdot\\left(\\begin{matrix} \\hat{u}_1 \\\\ \\hat{u}_2 \\\\ \\vdots \\\\ \\hat{u}_N \\end{matrix}\n",
    "\\right)\n",
    "= \\left(\\begin{matrix} u(x_1) \\\\ u(x_2) \\\\ \\vdots \\\\ u(x_N) \\end{matrix}\n",
    "\\right)\n",
    "$$\n",
    "Esta é a matriz de Vandermonde.\n",
    "\n",
    "A escolha de funções $\\phi_i(x)$ adequadas simplificam a solução do problema. Se, por exemplo, $\\phi_i(x_k) = \\delta_{ik}$ onde $\\delta$, neste caso, é o delta de Kronecker, a matriz é diagonal.\n"
   ]
  },
  {
   "cell_type": "markdown",
   "metadata": {},
   "source": [
    "## Mínimos quadrados\n",
    "Por outro lado, podemos, para uma sequência de pontos minimizar o erro quadrático total:\n",
    "\n",
    "$$\n",
    "R(\\hat{u}_1, \\ldots, \\hat{u}_N) = \\sum_{i=1}^Q \\left[ u(x_i) - u^\\delta(x_i)\\right]^2\n",
    "$$\n",
    "onde $Q$ é o número de pontos. Esta operação se chama método dos mínimos quadrados.\n",
    "\n",
    "Chamando $u(x_i) = u_i$, para minimizar este resíduo (erro quadrático total), basta derivar e igualar a zero, assim, chega-se ao seguinte sistema de equações lineares:\n",
    "\n",
    "$$\n",
    "\\left(\n",
    "\\begin{matrix}\n",
    "\\sum_{i=1}^Q \\phi_1(x_i)\\cdot\\phi_1(x_i) & \n",
    "\\cdots &\n",
    "\\sum_{i=1}^Q \\phi_1(x_i)\\cdot\\phi_N(x_i) \\\\\n",
    "\\sum_{i=1}^Q \\phi_2(x_i)\\cdot\\phi_1(x_i) & \n",
    "\\cdots &\n",
    "\\sum_{i=1}^Q \\phi_2(x_i)\\cdot\\phi_N(x_i) \\\\\n",
    "\\vdots & \\ddots & \\vdots \\\\\n",
    "\\sum_{i=1}^Q \\phi_N(x_i)\\cdot\\phi_1(x_i) & \n",
    "\\cdots &\n",
    "\\sum_{i=1}^Q \\phi_N(x_i)\\cdot\\phi_N(x_i) \\\\\n",
    "\\end{matrix}\\right)\n",
    "\\cdot\n",
    "\\left(\\begin{matrix} \\hat{u}_1 \\\\ \\hat{u}_2 \\\\ \\vdots \\\\ \\hat{u}_N \\end{matrix}\\right)\n",
    "= \n",
    "\\left(\\begin{matrix} \\sum_{i=1}^Q u_i \\phi_1(x_i) \\\\ \\sum_{i=1}^Q u_i \\phi_1(x_i) \\\\  \\vdots \\\\ \\sum_{i=1}^Q u_i \\phi_1(x_i)\\end{matrix}\\right)\n",
    "$$\n",
    "\n",
    "\n",
    "\n",
    "\n"
   ]
  },
  {
   "cell_type": "markdown",
   "metadata": {},
   "source": [
    "## Uma formulação mais geral\n",
    "\n",
    "Uma formulação mais geral é escolher funções peso $w_k(x)$ de modo que\n",
    "$$\n",
    "\\int_a^b u(x)w_k(x)\\:dx = \\int_a^b u^\\delta (x) w_k(x) \\:dx\n",
    "$$\n",
    "\n",
    "Escolhendo $w_k(x)$ = $\\delta(x_k)$ (*Delta* de Dirac), recuperamos a interpolação. Escolhendo $w_k(x) = \\phi_k(x)$ temos o método de Galerkin, muito usado no método de elementos finitos.\n",
    "\n",
    "Com o método de elementos finitos, a função não necessariamente vai passar pelos pontos, mas o erro será minimizado e pode-se obter uma aproximação melhor.\n",
    "\n",
    "Outro ponto a ser considerador é o que ocorre quando as medidas possuem erro e como isso afeta a aproximação."
   ]
  },
  {
   "cell_type": "markdown",
   "metadata": {},
   "source": [
    "# Polinômios\n",
    "\n",
    "$$\n",
    "p_n(x) = a_0 + a_1 x + a_2 x^2 + a_3 x^3 + \\ldots a_n x^n = \\sum_{i=0}^n a_i x^i\n",
    "$$\n",
    "Um polinômio é dado por seus coeficientes $a_i$.\n",
    "Em Julia, a indexação começa em 1, portanto é conveniente reescrever a definição acima como:\n",
    "\n",
    "$$\n",
    "p_n(x) = a_1 + a_2 x + a_3 x^2 + a_4 x^3 + \\ldots a_n x^{n-1} + a_{n+1} x^n = \\sum_{i=1}^{n+1} a_i x^{i-1}\n",
    "$$\n",
    "\n"
   ]
  },
  {
   "cell_type": "code",
   "execution_count": 3,
   "metadata": {},
   "outputs": [
    {
     "data": {
      "text/plain": [
       "polyval1 (generic function with 1 method)"
      ]
     },
     "execution_count": 3,
     "metadata": {},
     "output_type": "execute_result"
    }
   ],
   "source": [
    "function polyval1(a, x)\n",
    "    n = length(a)\n",
    "    \n",
    "    y = 0.0\n",
    "    for i in 1:n\n",
    "        y += a[i] * x^(i-1)\n",
    "    end\n",
    "    \n",
    "    return y\n",
    "end\n"
   ]
  },
  {
   "cell_type": "markdown",
   "metadata": {},
   "source": [
    "### Método de Horner\n",
    "\n",
    "Maneira mais eficiente e mais precisa de calcular o valor de um polinômio:\n",
    "\n",
    "$$\n",
    "p_n(x) = a_1 + x\\left(a_2 + x\\left(a_3 + x\\left(\\ldots + a_{n+1} x\\right) \\right) \\right)\n",
    "$$"
   ]
  },
  {
   "cell_type": "code",
   "execution_count": 4,
   "metadata": {},
   "outputs": [
    {
     "data": {
      "text/plain": [
       "polyval2 (generic function with 1 method)"
      ]
     },
     "execution_count": 4,
     "metadata": {},
     "output_type": "execute_result"
    }
   ],
   "source": [
    "function polyval2(a, x)\n",
    "    \n",
    "    y = a[end]\n",
    "    \n",
    "    for i = (lastindex(a)-1):-1:1\n",
    "        y = a[i] + x * y\n",
    "    end\n",
    "    \n",
    "    return y\n",
    "    \n",
    "end\n"
   ]
  },
  {
   "cell_type": "code",
   "execution_count": 5,
   "metadata": {},
   "outputs": [],
   "source": [
    "a1 = rand(3)\n",
    "a2 = rand(6)\n",
    "a3 = rand(15)\n",
    "a4 = rand(30);\n"
   ]
  },
  {
   "cell_type": "code",
   "execution_count": 6,
   "metadata": {},
   "outputs": [],
   "source": [
    "using PyPlot"
   ]
  },
  {
   "cell_type": "code",
   "execution_count": 8,
   "metadata": {},
   "outputs": [],
   "source": [
    "using BenchmarkTools"
   ]
  },
  {
   "cell_type": "code",
   "execution_count": 9,
   "metadata": {},
   "outputs": [
    {
     "data": {
      "text/plain": [
       "true"
      ]
     },
     "execution_count": 9,
     "metadata": {},
     "output_type": "execute_result"
    }
   ],
   "source": [
    "x = 0.5\n",
    "y1 = polyval1(a3, x)\n",
    "y2 = polyval2(a3, x)\n",
    "y1≈y2"
   ]
  },
  {
   "cell_type": "code",
   "execution_count": 10,
   "metadata": {},
   "outputs": [
    {
     "name": "stdout",
     "output_type": "stream",
     "text": [
      "  53.656 ns (1 allocation: 16 bytes)\n",
      "  24.466 ns (1 allocation: 16 bytes)\n"
     ]
    },
    {
     "data": {
      "text/plain": [
       "1.3341605163233816"
      ]
     },
     "execution_count": 10,
     "metadata": {},
     "output_type": "execute_result"
    }
   ],
   "source": [
    "@btime polyval1(a1, x)\n",
    "@btime polyval2(a1, x)"
   ]
  },
  {
   "cell_type": "code",
   "execution_count": 11,
   "metadata": {},
   "outputs": [
    {
     "name": "stdout",
     "output_type": "stream",
     "text": [
      "  103.634 ns (1 allocation: 16 bytes)\n",
      "  27.227 ns (1 allocation: 16 bytes)\n"
     ]
    },
    {
     "data": {
      "text/plain": [
       "0.7279395452223381"
      ]
     },
     "execution_count": 11,
     "metadata": {},
     "output_type": "execute_result"
    }
   ],
   "source": [
    "@btime polyval1(a2, x)\n",
    "@btime polyval2(a2, x)"
   ]
  },
  {
   "cell_type": "code",
   "execution_count": 12,
   "metadata": {},
   "outputs": [
    {
     "name": "stdout",
     "output_type": "stream",
     "text": [
      "  244.759 ns (1 allocation: 16 bytes)\n",
      "  42.393 ns (1 allocation: 16 bytes)\n"
     ]
    },
    {
     "data": {
      "text/plain": [
       "0.8797525846941783"
      ]
     },
     "execution_count": 12,
     "metadata": {},
     "output_type": "execute_result"
    }
   ],
   "source": [
    "@btime polyval1(a3, x)\n",
    "@btime polyval2(a3, x)"
   ]
  },
  {
   "cell_type": "code",
   "execution_count": 13,
   "metadata": {},
   "outputs": [
    {
     "name": "stdout",
     "output_type": "stream",
     "text": [
      "  476.799 ns (1 allocation: 16 bytes)\n",
      "  74.871 ns (1 allocation: 16 bytes)\n"
     ]
    },
    {
     "data": {
      "text/plain": [
       "0.1460046630356562"
      ]
     },
     "execution_count": 13,
     "metadata": {},
     "output_type": "execute_result"
    }
   ],
   "source": [
    "typeof(a3)\n",
    "@btime polyval1(a4, x)\n",
    "@btime polyval2(a4, x)"
   ]
  },
  {
   "cell_type": "markdown",
   "metadata": {},
   "source": [
    "### E os tipos dos dados???"
   ]
  },
  {
   "cell_type": "code",
   "execution_count": 14,
   "metadata": {},
   "outputs": [
    {
     "data": {
      "text/plain": [
       "7-element Array{Int64,1}:\n",
       " -3\n",
       " -1\n",
       "  5\n",
       "  4\n",
       " -3\n",
       " -4\n",
       " -4"
      ]
     },
     "execution_count": 14,
     "metadata": {},
     "output_type": "execute_result"
    }
   ],
   "source": [
    "a5 = rand(-5:5, 7)"
   ]
  },
  {
   "cell_type": "code",
   "execution_count": 15,
   "metadata": {},
   "outputs": [
    {
     "data": {
      "text/plain": [
       "-385.0"
      ]
     },
     "execution_count": 15,
     "metadata": {},
     "output_type": "execute_result"
    }
   ],
   "source": [
    "polyval1(a5, 2)"
   ]
  },
  {
   "cell_type": "code",
   "execution_count": 16,
   "metadata": {},
   "outputs": [
    {
     "data": {
      "text/plain": [
       "-385.0"
      ]
     },
     "execution_count": 16,
     "metadata": {},
     "output_type": "execute_result"
    }
   ],
   "source": [
    "polyval1(a5, 2.0)"
   ]
  },
  {
   "cell_type": "code",
   "execution_count": 17,
   "metadata": {},
   "outputs": [
    {
     "data": {
      "text/plain": [
       "-385.0"
      ]
     },
     "execution_count": 17,
     "metadata": {},
     "output_type": "execute_result"
    }
   ],
   "source": [
    "polyval2(a5, 2.0)"
   ]
  },
  {
   "cell_type": "code",
   "execution_count": 18,
   "metadata": {},
   "outputs": [
    {
     "data": {
      "text/plain": [
       "-385"
      ]
     },
     "execution_count": 18,
     "metadata": {},
     "output_type": "execute_result"
    }
   ],
   "source": [
    "polyval2(a5, 2)"
   ]
  },
  {
   "cell_type": "code",
   "execution_count": 19,
   "metadata": {},
   "outputs": [
    {
     "data": {
      "text/plain": [
       "4-element Array{Rational{Int64},1}:\n",
       " 1//2\n",
       " 2//3\n",
       " 3//4\n",
       " 4//5"
      ]
     },
     "execution_count": 19,
     "metadata": {},
     "output_type": "execute_result"
    }
   ],
   "source": [
    "a6 = [1//2, 2//3, 3//4, 4//5]"
   ]
  },
  {
   "cell_type": "code",
   "execution_count": 20,
   "metadata": {},
   "outputs": [
    {
     "name": "stdout",
     "output_type": "stream",
     "text": [
      "Variables\n",
      "  #self#\u001b[36m::Core.Compiler.Const(polyval2, false)\u001b[39m\n",
      "  a\u001b[36m::Array{Rational{Int64},1}\u001b[39m\n",
      "  x\u001b[36m::Float64\u001b[39m\n",
      "  y\u001b[91m\u001b[1m::Union{Rational{Int64}, Float64}\u001b[22m\u001b[39m\n",
      "  @_5\u001b[33m\u001b[1m::Union{Nothing, Tuple{Int64,Int64}}\u001b[22m\u001b[39m\n",
      "  i\u001b[36m::Int64\u001b[39m\n",
      "\n",
      "Body\u001b[91m\u001b[1m::Union{Rational{Int64}, Float64}\u001b[22m\u001b[39m\n",
      "\u001b[90m1 ─\u001b[39m %1  = Base.lastindex(a)\u001b[36m::Int64\u001b[39m\n",
      "\u001b[90m│  \u001b[39m       (y = Base.getindex(a, %1))\n",
      "\u001b[90m│  \u001b[39m %3  = Main.lastindex(a)\u001b[36m::Int64\u001b[39m\n",
      "\u001b[90m│  \u001b[39m %4  = (%3 - 1)\u001b[36m::Int64\u001b[39m\n",
      "\u001b[90m│  \u001b[39m %5  = (%4:-1:1)\u001b[36m::Core.Compiler.PartialStruct(StepRange{Int64,Int64}, Any[Int64, Core.Compiler.Const(-1, false), Int64])\u001b[39m\n",
      "\u001b[90m│  \u001b[39m       (@_5 = Base.iterate(%5))\n",
      "\u001b[90m│  \u001b[39m %7  = (@_5 === nothing)\u001b[36m::Bool\u001b[39m\n",
      "\u001b[90m│  \u001b[39m %8  = Base.not_int(%7)\u001b[36m::Bool\u001b[39m\n",
      "\u001b[90m└──\u001b[39m       goto #4 if not %8\n",
      "\u001b[90m2 ┄\u001b[39m %10 = @_5::Tuple{Int64,Int64}\u001b[36m::Tuple{Int64,Int64}\u001b[39m\n",
      "\u001b[90m│  \u001b[39m       (i = Core.getfield(%10, 1))\n",
      "\u001b[90m│  \u001b[39m %12 = Core.getfield(%10, 2)\u001b[36m::Int64\u001b[39m\n",
      "\u001b[90m│  \u001b[39m %13 = Base.getindex(a, i)\u001b[36m::Rational{Int64}\u001b[39m\n",
      "\u001b[90m│  \u001b[39m %14 = (x * y)\u001b[36m::Float64\u001b[39m\n",
      "\u001b[90m│  \u001b[39m       (y = %13 + %14)\n",
      "\u001b[90m│  \u001b[39m       (@_5 = Base.iterate(%5, %12))\n",
      "\u001b[90m│  \u001b[39m %17 = (@_5 === nothing)\u001b[36m::Bool\u001b[39m\n",
      "\u001b[90m│  \u001b[39m %18 = Base.not_int(%17)\u001b[36m::Bool\u001b[39m\n",
      "\u001b[90m└──\u001b[39m       goto #4 if not %18\n",
      "\u001b[90m3 ─\u001b[39m       goto #2\n",
      "\u001b[90m4 ┄\u001b[39m       return y\n"
     ]
    }
   ],
   "source": [
    "@code_warntype polyval2(a6, 0.5)"
   ]
  },
  {
   "cell_type": "code",
   "execution_count": 21,
   "metadata": {},
   "outputs": [
    {
     "data": {
      "text/plain": [
       "polyval3 (generic function with 1 method)"
      ]
     },
     "execution_count": 21,
     "metadata": {},
     "output_type": "execute_result"
    }
   ],
   "source": [
    "function polyval3(a::Vector{T}, x::S) where {T,S}\n",
    "    R = promote_type(T,S)\n",
    "    \n",
    "    y = convert(R, a[end])\n",
    "    \n",
    "    for i = (lastindex(a)-1):-1:1\n",
    "        y = a[i] + x * y\n",
    "    end\n",
    "    \n",
    "    return y\n",
    "    \n",
    "end\n"
   ]
  },
  {
   "cell_type": "code",
   "execution_count": 22,
   "metadata": {},
   "outputs": [
    {
     "name": "stdout",
     "output_type": "stream",
     "text": [
      "Variables\n",
      "  #self#\u001b[36m::Core.Compiler.Const(polyval3, false)\u001b[39m\n",
      "  a\u001b[36m::Array{Rational{Int64},1}\u001b[39m\n",
      "  x\u001b[36m::Float64\u001b[39m\n",
      "  R\u001b[36m::Type{Float64}\u001b[39m\n",
      "  y\u001b[36m::Float64\u001b[39m\n",
      "  @_6\u001b[33m\u001b[1m::Union{Nothing, Tuple{Int64,Int64}}\u001b[22m\u001b[39m\n",
      "  i\u001b[36m::Int64\u001b[39m\n",
      "\n",
      "Body\u001b[36m::Float64\u001b[39m\n",
      "\u001b[90m1 ─\u001b[39m       (R = Main.promote_type($(Expr(:static_parameter, 1)), $(Expr(:static_parameter, 2))))\n",
      "\u001b[90m│  \u001b[39m %2  = R::Core.Compiler.Const(Float64, false)\u001b[36m::Core.Compiler.Const(Float64, false)\u001b[39m\n",
      "\u001b[90m│  \u001b[39m %3  = Base.lastindex(a)\u001b[36m::Int64\u001b[39m\n",
      "\u001b[90m│  \u001b[39m %4  = Base.getindex(a, %3)\u001b[36m::Rational{Int64}\u001b[39m\n",
      "\u001b[90m│  \u001b[39m       (y = Main.convert(%2, %4))\n",
      "\u001b[90m│  \u001b[39m %6  = Main.lastindex(a)\u001b[36m::Int64\u001b[39m\n",
      "\u001b[90m│  \u001b[39m %7  = (%6 - 1)\u001b[36m::Int64\u001b[39m\n",
      "\u001b[90m│  \u001b[39m %8  = (%7:-1:1)\u001b[36m::Core.Compiler.PartialStruct(StepRange{Int64,Int64}, Any[Int64, Core.Compiler.Const(-1, false), Int64])\u001b[39m\n",
      "\u001b[90m│  \u001b[39m       (@_6 = Base.iterate(%8))\n",
      "\u001b[90m│  \u001b[39m %10 = (@_6 === nothing)\u001b[36m::Bool\u001b[39m\n",
      "\u001b[90m│  \u001b[39m %11 = Base.not_int(%10)\u001b[36m::Bool\u001b[39m\n",
      "\u001b[90m└──\u001b[39m       goto #4 if not %11\n",
      "\u001b[90m2 ┄\u001b[39m %13 = @_6::Tuple{Int64,Int64}\u001b[36m::Tuple{Int64,Int64}\u001b[39m\n",
      "\u001b[90m│  \u001b[39m       (i = Core.getfield(%13, 1))\n",
      "\u001b[90m│  \u001b[39m %15 = Core.getfield(%13, 2)\u001b[36m::Int64\u001b[39m\n",
      "\u001b[90m│  \u001b[39m %16 = Base.getindex(a, i)\u001b[36m::Rational{Int64}\u001b[39m\n",
      "\u001b[90m│  \u001b[39m %17 = (x * y)\u001b[36m::Float64\u001b[39m\n",
      "\u001b[90m│  \u001b[39m       (y = %16 + %17)\n",
      "\u001b[90m│  \u001b[39m       (@_6 = Base.iterate(%8, %15))\n",
      "\u001b[90m│  \u001b[39m %20 = (@_6 === nothing)\u001b[36m::Bool\u001b[39m\n",
      "\u001b[90m│  \u001b[39m %21 = Base.not_int(%20)\u001b[36m::Bool\u001b[39m\n",
      "\u001b[90m└──\u001b[39m       goto #4 if not %21\n",
      "\u001b[90m3 ─\u001b[39m       goto #2\n",
      "\u001b[90m4 ┄\u001b[39m       return y\n"
     ]
    }
   ],
   "source": [
    "@code_warntype polyval3(a6, 0.5)"
   ]
  },
  {
   "cell_type": "code",
   "execution_count": 23,
   "metadata": {},
   "outputs": [
    {
     "name": "stdout",
     "output_type": "stream",
     "text": [
      "  30.833 ns (1 allocation: 32 bytes)\n"
     ]
    },
    {
     "data": {
      "text/plain": [
       "1.0428333333333333 + 0.39693333333333336im"
      ]
     },
     "execution_count": 23,
     "metadata": {},
     "output_type": "execute_result"
    }
   ],
   "source": [
    "@btime polyval2(a6, 0.5+0.2im)"
   ]
  },
  {
   "cell_type": "code",
   "execution_count": 24,
   "metadata": {},
   "outputs": [
    {
     "name": "stdout",
     "output_type": "stream",
     "text": [
      "  28.239 ns (1 allocation: 32 bytes)\n"
     ]
    },
    {
     "data": {
      "text/plain": [
       "1.0428333333333333 + 0.39693333333333336im"
      ]
     },
     "execution_count": 24,
     "metadata": {},
     "output_type": "execute_result"
    }
   ],
   "source": [
    "@btime polyval3(a6, 0.5+0.2im)"
   ]
  },
  {
   "cell_type": "markdown",
   "metadata": {},
   "source": [
    "### Polynomials.jl"
   ]
  },
  {
   "cell_type": "code",
   "execution_count": 25,
   "metadata": {},
   "outputs": [],
   "source": [
    "using Polynomials"
   ]
  },
  {
   "cell_type": "code",
   "execution_count": 32,
   "metadata": {},
   "outputs": [
    {
     "data": {
      "text/html": [
       "1 &#43; 2&#8729;z &#43; 3&#8729;z<sup>2</sup>"
      ],
      "text/latex": [
       "$1 + 2\\cdot z + 3\\cdot z^{2}$"
      ],
      "text/plain": [
       "Polynomial(1 + 2*z + 3*z^2)"
      ]
     },
     "execution_count": 32,
     "metadata": {},
     "output_type": "execute_result"
    }
   ],
   "source": [
    "p = Polynomial([1,2,3], :z)"
   ]
  },
  {
   "cell_type": "code",
   "execution_count": 34,
   "metadata": {},
   "outputs": [
    {
     "data": {
      "text/plain": [
       "Polynomial{Int64}"
      ]
     },
     "execution_count": 34,
     "metadata": {},
     "output_type": "execute_result"
    }
   ],
   "source": [
    "typeof(p)"
   ]
  },
  {
   "cell_type": "code",
   "execution_count": 35,
   "metadata": {},
   "outputs": [
    {
     "data": {
      "text/plain": [
       "17//16 - 15//4*im"
      ]
     },
     "execution_count": 35,
     "metadata": {},
     "output_type": "execute_result"
    }
   ],
   "source": [
    "p(1//2 + 3//4im)"
   ]
  },
  {
   "cell_type": "code",
   "execution_count": 36,
   "metadata": {},
   "outputs": [
    {
     "data": {
      "text/plain": [
       "2-element Array{Complex{Float64},1}:\n",
       " -0.3333333333333333 - 0.4714045207910317im\n",
       " -0.3333333333333333 + 0.4714045207910317im"
      ]
     },
     "execution_count": 36,
     "metadata": {},
     "output_type": "execute_result"
    }
   ],
   "source": [
    "roots(p)"
   ]
  },
  {
   "cell_type": "code",
   "execution_count": 37,
   "metadata": {},
   "outputs": [
    {
     "data": {
      "text/html": [
       "1 &#43; 2&#8729;x"
      ],
      "text/latex": [
       "$1 + 2\\cdot x$"
      ],
      "text/plain": [
       "Polynomial(1 + 2*x)"
      ]
     },
     "execution_count": 37,
     "metadata": {},
     "output_type": "execute_result"
    }
   ],
   "source": [
    "p2 = Polynomial([1,2]) # Raízes"
   ]
  },
  {
   "cell_type": "code",
   "execution_count": 38,
   "metadata": {},
   "outputs": [
    {
     "data": {
      "text/plain": [
       "1-element Array{Float64,1}:\n",
       " -0.5"
      ]
     },
     "execution_count": 38,
     "metadata": {},
     "output_type": "execute_result"
    }
   ],
   "source": [
    "roots(p2)"
   ]
  },
  {
   "cell_type": "code",
   "execution_count": 40,
   "metadata": {},
   "outputs": [
    {
     "data": {
      "text/html": [
       "1.0&#8729;z &#43; 1.0&#8729;z<sup>2</sup> &#43; 1.0&#8729;z<sup>3</sup>"
      ],
      "text/latex": [
       "$1.0\\cdot z + 1.0\\cdot z^{2} + 1.0\\cdot z^{3}$"
      ],
      "text/plain": [
       "Polynomial(1.0*z + 1.0*z^2 + 1.0*z^3)"
      ]
     },
     "execution_count": 40,
     "metadata": {},
     "output_type": "execute_result"
    }
   ],
   "source": [
    "integrate(p)"
   ]
  },
  {
   "cell_type": "code",
   "execution_count": 42,
   "metadata": {},
   "outputs": [
    {
     "data": {
      "text/html": [
       "2.0 &#43; 6.0&#8729;z"
      ],
      "text/latex": [
       "$2.0 + 6.0\\cdot z$"
      ],
      "text/plain": [
       "Polynomial(2.0 + 6.0*z)"
      ]
     },
     "execution_count": 42,
     "metadata": {},
     "output_type": "execute_result"
    }
   ],
   "source": [
    "derivative(p)"
   ]
  },
  {
   "cell_type": "code",
   "execution_count": 44,
   "metadata": {},
   "outputs": [
    {
     "data": {
      "text/plain": [
       "2"
      ]
     },
     "execution_count": 44,
     "metadata": {},
     "output_type": "execute_result"
    }
   ],
   "source": [
    "degree(p)"
   ]
  },
  {
   "cell_type": "markdown",
   "metadata": {},
   "source": [
    "### Macro quando os coeficientes são conhecidos"
   ]
  },
  {
   "cell_type": "code",
   "execution_count": 52,
   "metadata": {},
   "outputs": [
    {
     "data": {
      "text/plain": [
       "2.75"
      ]
     },
     "execution_count": 52,
     "metadata": {},
     "output_type": "execute_result"
    }
   ],
   "source": [
    "@evalpoly(0.5, 1, 2, 3)\n"
   ]
  },
  {
   "cell_type": "code",
   "execution_count": 55,
   "metadata": {},
   "outputs": [
    {
     "data": {
      "text/plain": [
       ":(Base.Math.evalpoly(0.5, (1, 2, 3)))"
      ]
     },
     "execution_count": 55,
     "metadata": {},
     "output_type": "execute_result"
    }
   ],
   "source": [
    "@macroexpand @evalpoly(0.5, 1, 2, 3)"
   ]
  },
  {
   "cell_type": "code",
   "execution_count": 51,
   "metadata": {},
   "outputs": [
    {
     "data": {
      "text/plain": [
       "2.75"
      ]
     },
     "execution_count": 51,
     "metadata": {},
     "output_type": "execute_result"
    }
   ],
   "source": [
    "evalpoly(0.5, [1,2,3])\n"
   ]
  },
  {
   "cell_type": "markdown",
   "metadata": {},
   "source": [
    "# Interpolação\n",
    "\n",
    "Dado um conjunto de n pontos $(x_i, y_i)$, qual o poliômio que passa por todos?\n",
    "\n",
    "$$\n",
    "y_i = a_0 + a_1 x_i + a_2 x_i^2 + \\ldots a_n x_i^n \\qquad i=1, \\ldots, m\n",
    "$$"
   ]
  },
  {
   "cell_type": "markdown",
   "metadata": {},
   "source": [
    "## Vandermonde\n",
    "\n",
    "Com n+1 pontos distintos, se o polinômio for de grau n, pode-se montar o seguinte sistema linear:\n",
    "\n",
    "$$\n",
    "\\begin{bmatrix}\n",
    "1 & x_0 & x_0^2 & \\cdots & x_0^n \\\\\n",
    "1 & x_1 & x_1^2 & \\cdots & x_1^n \\\\\n",
    "\\vdots & \\vdots & \\vdots & \\ddots & \\vdots\\\\\n",
    "1 & x_n & x_n^2 & \\cdots & x_n^n\\\\\n",
    "\\end{bmatrix}\\cdot\n",
    "\\left\\{ \\begin{matrix} a_0 \\\\ a_1 \\\\ \\vdots \\\\ a_n\\\\ \\end{matrix}\\right\\}\n",
    "= \\left\\{\\begin{matrix} y_0 \\\\ y_1 \\\\ \\vdots \\\\ y_n\\\\\\end{matrix}\\right\\}\n",
    "$$\n",
    "\n",
    "Mas esta é uma operação cara, $\\mathcal{O}(n^3)$!"
   ]
  },
  {
   "cell_type": "markdown",
   "metadata": {},
   "source": [
    "## Outra possibilidade\n",
    "\n",
    "$$\n",
    "y = f(x) \\approx a_0 + a_1(x-x_0) + a_2(x-x_0)(x-x_1) + \\cdots + a_n(x-x_0)(x-x_1)\\cdots(x - x_{n-1})\n",
    "$$\n",
    "\n",
    "Com isso chegamos ao seguinte sistema linear triangular:\n",
    "$$\n",
    "\\begin{bmatrix}\n",
    "1 & 0 & 0 &  0 &\\cdots & 0\\\\\n",
    "1 & (x_1-x_0) & 0 & 0 &  \\cdots & 0\\\\\n",
    "1 & (x_2 - x_0) &  (x_2 - x_0)(x_2 - x_1) & 0 & \\cdots & 0\\\\\n",
    "\\vdots & \\vdots & \\vdots & \\vdots & \\ddots & \\vdots\\\\\n",
    "1 & (x_n - x_0) &  (x_n - x_0)(x_n - x_1) & (x_n - x_0)(x_n - x_1)(x_n-x_2) & \\cdots &(x_n-x_0)(x_n-x_1)\\cdots(x_n-x_{n-1})\\\\\n",
    "\\end{bmatrix}\\cdot\\left\\{\\begin{matrix} a_0\\\\ a_1 \\\\ a_2 \\\\ \\vdots \\\\ a_n\\end{matrix}\\right\\} = \n",
    "\\left\\{\\begin{matrix} y_0\\\\ y_1 \\\\ y_2 \\\\ \\vdots \\\\ y_n\\end{matrix}\\right\\}\n",
    "$$\n",
    "\n",
    "Resolver este sistema é muito mais barato: $\\mathcal{O}(n^2)$"
   ]
  },
  {
   "cell_type": "markdown",
   "metadata": {},
   "source": [
    "## Interpolação de Lagrange:\n",
    "\n",
    "$$\n",
    "y(x) = \\sum_{i=1}^n y_i h_i(x)\n",
    "$$\n",
    "\n",
    "onde $h_i(x)$ é o interpolador de Lagrange:\n",
    "\n",
    "$$\n",
    "h_k(x) = \\prod_{i=1\\ldots n,}^n \\frac{x - x_i}{x_k - x_i} \\qquad i\\ne k\n",
    "$$\n",
    "\n",
    "Propriedade:\n",
    "$$\n",
    "h_i(x_i) = \\delta_{ij} \\quad \\text{onde} \\quad \\delta_{ij} = \\left\\{\\begin{matrix}1, \\: i=j \\\\ 0, i\\ne j\\\\ \\end{matrix}\\right.\n",
    "$$"
   ]
  },
  {
   "cell_type": "code",
   "execution_count": 56,
   "metadata": {},
   "outputs": [
    {
     "data": {
      "text/plain": [
       "lagrange1 (generic function with 1 method)"
      ]
     },
     "execution_count": 56,
     "metadata": {},
     "output_type": "execute_result"
    }
   ],
   "source": [
    "function lagrange1(k, z, x)\n",
    "    \n",
    "    h = 1.0\n",
    "    \n",
    "    n = length(z)\n",
    "    \n",
    "    for i = 1:n\n",
    "        if i != k\n",
    "            h *= (x - z[i]) / (z[k] - z[i])\n",
    "        end\n",
    "    end\n",
    "    \n",
    "    return h\n",
    "end\n",
    "    \n",
    "    "
   ]
  },
  {
   "cell_type": "code",
   "execution_count": 57,
   "metadata": {},
   "outputs": [
    {
     "data": {
      "text/plain": [
       "lagrange2 (generic function with 1 method)"
      ]
     },
     "execution_count": 57,
     "metadata": {},
     "output_type": "execute_result"
    }
   ],
   "source": [
    "function lagrange2(k, z, x)\n",
    "    \n",
    "    h = 1.0\n",
    "    n = length(z)\n",
    "    for i = 1:(k-1)\n",
    "        h *= (x - z[i]) / (z[k] - z[i])\n",
    "    end\n",
    "    \n",
    "    for i = (k+1):n\n",
    "        h *= (x - z[i]) / (z[k] - z[i])\n",
    "    end\n",
    "    return h\n",
    "end"
   ]
  },
  {
   "cell_type": "code",
   "execution_count": 58,
   "metadata": {},
   "outputs": [
    {
     "data": {
      "text/plain": [
       "-1.0:0.005:1.0"
      ]
     },
     "execution_count": 58,
     "metadata": {},
     "output_type": "execute_result"
    }
   ],
   "source": [
    "N = 10\n",
    "x = range(-1.0, 1.0, step=0.2)\n",
    "#x = [cos(k*π/N) for k in 0:N]\n",
    "xx = range(-1.0, 1.0, step=0.005)\n",
    "\n",
    "\n"
   ]
  },
  {
   "cell_type": "code",
   "execution_count": 59,
   "metadata": {},
   "outputs": [],
   "source": [
    "hh = [lagrange2.(k, Ref(x), xx) for k in 1:length(x)];"
   ]
  },
  {
   "cell_type": "code",
   "execution_count": 60,
   "metadata": {},
   "outputs": [
    {
     "data": {
      "image/png": "[encoded data removed]",
      "text/plain": [
       "Figure(PyObject <Figure size 640x480 with 1 Axes>)"
      ]
     },
     "metadata": {},
     "output_type": "display_data"
    }
   ],
   "source": [
    "for i in 1:length(x)\n",
    "    plot(xx, hh[i])\n",
    "end\n"
   ]
  },
  {
   "cell_type": "code",
   "execution_count": 61,
   "metadata": {},
   "outputs": [
    {
     "data": {
      "image/png": "[encoded data removed]",
      "text/plain": [
       "Figure(PyObject <Figure size 640x480 with 1 Axes>)"
      ]
     },
     "metadata": {},
     "output_type": "display_data"
    }
   ],
   "source": [
    "plot(xx, hh[5])\n",
    "axhline(y=0, color=\"black\", linestyle = \"--\")\n",
    "axhline(y=1, color=\"black\", linestyle = \"--\")\n",
    "\n",
    "for xv in x\n",
    "    axvline(x=xv, color=\"red\", linestyle=\"--\")\n",
    "end\n"
   ]
  },
  {
   "cell_type": "markdown",
   "metadata": {},
   "source": [
    "### Vamos organizar a interpolação de Lagrange"
   ]
  },
  {
   "cell_type": "code",
   "execution_count": 62,
   "metadata": {},
   "outputs": [],
   "source": [
    "struct Lagrange\n",
    "    x::Vector{Float64}\n",
    "    y::Vector{Float64}\n",
    "    Lagrange(x, y) = new(copy(x), copy(y))\n",
    "end\n",
    "Base.Broadcast.broadcastable(lgr::Lagrange) = Ref(lgr)\n",
    "\n",
    "function lagrange(k, z, x)\n",
    " h = 1.0\n",
    "    n = length(z)\n",
    "    for i = 1:(k-1)\n",
    "        h *= (x - z[i]) / (z[k] - z[i])\n",
    "    end\n",
    "    \n",
    "    for i = (k+1):n\n",
    "        h *= (x - z[i]) / (z[k] - z[i])\n",
    "    end\n",
    "    return h\n",
    "end\n",
    "\n",
    "function interp(lgr::Lagrange, x)\n",
    "    \n",
    "    y = lgr.y[1] * lagrange(1, lgr.x, x)\n",
    "    \n",
    "    for i = 2:length(lgr.x)\n",
    "        y += lgr.y[i] * lagrange(i, lgr.x, x)\n",
    "    end\n",
    "    \n",
    "    return y\n",
    "end\n",
    "\n",
    "    \n",
    "(lgr::Lagrange)(x) = interp(lgr, x)    "
   ]
  },
  {
   "cell_type": "code",
   "execution_count": 63,
   "metadata": {},
   "outputs": [
    {
     "data": {
      "text/plain": [
       "-1.0:0.005:1.0"
      ]
     },
     "execution_count": 63,
     "metadata": {},
     "output_type": "execute_result"
    }
   ],
   "source": [
    "x1 = range(-1, 1, step=0.2)\n",
    "y1 = sin.(π.*x1);\n",
    "xx = range(-1, 1, step=0.005)\n"
   ]
  },
  {
   "cell_type": "code",
   "execution_count": 64,
   "metadata": {},
   "outputs": [],
   "source": [
    "lgr = Lagrange(x1, y1)\n",
    "yy = sin.(π.*xx);\n",
    "yy1 = lgr.(xx);"
   ]
  },
  {
   "cell_type": "code",
   "execution_count": 65,
   "metadata": {},
   "outputs": [
    {
     "data": {
      "image/png": "[encoded data removed]",
      "text/plain": [
       "Figure(PyObject <Figure size 640x480 with 1 Axes>)"
      ]
     },
     "metadata": {},
     "output_type": "display_data"
    },
    {
     "data": {
      "text/plain": [
       "1-element Array{PyCall.PyObject,1}:\n",
       " PyObject <matplotlib.lines.Line2D object at 0x7f43eae9b940>"
      ]
     },
     "execution_count": 65,
     "metadata": {},
     "output_type": "execute_result"
    }
   ],
   "source": [
    "\n",
    "plot(x1, y1, \"ro\")\n",
    "plot(xx, yy, \"r-\")\n",
    "plot(xx, yy1, \"b--\")"
   ]
  },
  {
   "cell_type": "markdown",
   "metadata": {},
   "source": [
    "## Interpolação Linear\n",
    "\n"
   ]
  },
  {
   "cell_type": "code",
   "execution_count": 66,
   "metadata": {},
   "outputs": [
    {
     "data": {
      "image/png": "[encoded data removed]",
      "text/plain": [
       "Figure(PyObject <Figure size 640x480 with 1 Axes>)"
      ]
     },
     "metadata": {},
     "output_type": "display_data"
    },
    {
     "data": {
      "text/plain": [
       "1-element Array{PyCall.PyObject,1}:\n",
       " PyObject <matplotlib.lines.Line2D object at 0x7f43eae05610>"
      ]
     },
     "execution_count": 66,
     "metadata": {},
     "output_type": "execute_result"
    }
   ],
   "source": [
    "x2 = range(-1, 1, step=0.2)\n",
    "y2 = sin.(π.*x2);\n",
    "\n",
    "plot(x2, y2, \"ro\")\n",
    "plot(x2, y2, \"b-\")"
   ]
  },
  {
   "cell_type": "code",
   "execution_count": 81,
   "metadata": {},
   "outputs": [],
   "source": [
    "struct LinearInterp\n",
    "    x::Vector{Float64}\n",
    "    y::Vector{Float64}\n",
    "    LinearInterp(x, y) = new(copy(x), copy(y))\n",
    "end\n",
    "Base.Broadcast.broadcastable(lin::LinearInterp) = Ref(lin)\n",
    "\n",
    "function interp1(lin::LinearInterp, x)\n",
    "    \n",
    "    if x < lin.x[1] || x > lin.x[end]\n",
    "        error(\"Fora do Range\")\n",
    "    end\n",
    "    \n",
    "    index = 2\n",
    "    n = length(lin.x)\n",
    "    for i = 2:n\n",
    "        if lin.x[i] >= x\n",
    "            index = i\n",
    "            break\n",
    "        end\n",
    "    end\n",
    "    i1 = index-1\n",
    "    return lin.y[i1] + (lin.y[index] - lin.y[i1]) * (x - lin.x[i1]) / (lin.x[index] - lin.x[i1])\n",
    "    \n",
    "end\n",
    "\n",
    "(lin::LinearInterp)(x) = interp1(lin, x)\n"
   ]
  },
  {
   "cell_type": "code",
   "execution_count": 82,
   "metadata": {},
   "outputs": [
    {
     "data": {
      "image/png": "[encoded data removed]",
      "text/plain": [
       "Figure(PyObject <Figure size 640x480 with 1 Axes>)"
      ]
     },
     "metadata": {},
     "output_type": "display_data"
    },
    {
     "data": {
      "text/plain": [
       "1-element Array{PyCall.PyObject,1}:\n",
       " PyObject <matplotlib.lines.Line2D object at 0x7f43eae0b460>"
      ]
     },
     "execution_count": 82,
     "metadata": {},
     "output_type": "execute_result"
    }
   ],
   "source": [
    "lin = LinearInterp(x2, y2)\n",
    "yy2 = interp1.(lin, xx);\n",
    "plot(x2, y2, \"ro\")\n",
    "plot(xx, yy2, \"b-\")"
   ]
  },
  {
   "cell_type": "code",
   "execution_count": 83,
   "metadata": {},
   "outputs": [
    {
     "name": "stdout",
     "output_type": "stream",
     "text": [
      "  3.953 μs (3 allocations: 96 bytes)\n"
     ]
    }
   ],
   "source": [
    "@btime yy2 .= interp1.(lin, xx);"
   ]
  },
  {
   "cell_type": "markdown",
   "metadata": {},
   "source": [
    "# Mínimos quadrados\n"
   ]
  },
  {
   "cell_type": "code",
   "execution_count": 86,
   "metadata": {},
   "outputs": [
    {
     "data": {
      "text/plain": [
       "linfit (generic function with 1 method)"
      ]
     },
     "execution_count": 86,
     "metadata": {},
     "output_type": "execute_result"
    }
   ],
   "source": [
    "function linfit(x,y)\n",
    "    sx = sum(x)\n",
    "    sx2 = sum(x->x^2, x)\n",
    "    N = length(x)\n",
    "\n",
    "    sy = sum(y)\n",
    "    syx = sum(x[i]*y[i] for i in 1:N)\n",
    "    \n",
    "    return [N sx; sx sx2] \\ [sy; syx]\n",
    "end"
   ]
  },
  {
   "cell_type": "code",
   "execution_count": 89,
   "metadata": {},
   "outputs": [
    {
     "data": {
      "text/plain": [
       "5.0:2.0:43.0"
      ]
     },
     "execution_count": 89,
     "metadata": {},
     "output_type": "execute_result"
    }
   ],
   "source": [
    "x = 1.0:20\n",
    "y = 2 .*x .+ 3.0"
   ]
  },
  {
   "cell_type": "code",
   "execution_count": 90,
   "metadata": {},
   "outputs": [
    {
     "data": {
      "text/plain": [
       "2-element Array{Float64,1}:\n",
       " 3.0\n",
       " 2.0"
      ]
     },
     "execution_count": 90,
     "metadata": {},
     "output_type": "execute_result"
    }
   ],
   "source": [
    "linfit(x,y)"
   ]
  },
  {
   "cell_type": "markdown",
   "metadata": {},
   "source": [
    "# Pacotes\n",
    "\n",
    " * [Interpolations](https://github.com/JuliaMath/Interpolations.jl)\n",
    " * [Dierckx](https://github.com/kbarbary/Dierckx.jl)\n",
    " * [GridInterpolations](https://github.com/sisl/GridInterpolations.jl)"
   ]
  },
  {
   "cell_type": "markdown",
   "metadata": {},
   "source": [
    "## Exercícios\n",
    "\n",
    "### Problema 1\n",
    "\n",
    "Interpole a função de Runge com $-1 \\le x \\le 1$:\n",
    "$$\n",
    "f(x) = \\frac{1}{1 + 25x^2}\n",
    "$$\n",
    "\n",
    " 1. Use 11 pontos uniformemente distribuídos\n",
    " 2. Aumente o número de pontos\n",
    " 3. Tente usar os pontos $x_k = \\cos\\left(\\frac{k\\pi}{N}\\right)$ para $k = 0\\ldots N$.\n",
    " 4. Brinque com o número de pontos\n",
    "\n",
    "### Problema 2\n",
    "\n",
    "Procure na Net o método de diferenças divididas de Newton a interpole a função anterior nos mesmos pontos. Este método é simplesmente um jeito inteligente de resolver a matriz apresentada lá em cima.\n",
    "\n",
    "### Problema 3\n",
    "\n",
    "Use a biblioteca Interpolations.jl e Dierckx.jl para fazer as interpolações. Compare a interpolação linear com os splines.\n",
    "\n",
    "### Problema 4\n",
    "\n",
    "Crie funções para fazer os seguintes problemas de mínimos quadrados:\n",
    " * $y = a_0 x^ a_1$\n",
    " * $y = a_0 \\exp \\left( a_1 \\cdot x\\right)$\n",
    " * Polinômio genérico de ordem n\n"
   ]
  },
  {
   "cell_type": "code",
   "execution_count": null,
   "metadata": {},
   "outputs": [],
   "source": [
    "f(x) = 1.0 / (1.0 + 25x^2)\n"
   ]
  },
  {
   "cell_type": "markdown",
   "metadata": {},
   "source": []
  }
 ],
 "metadata": {
  "@webio": {
   "lastCommId": "29381185e1ea4e088b6d502855c75c92",
   "lastKernelId": "27064174-b830-4bb2-b21b-58da93beea16"
  },
  "kernelspec": {
   "display_name": "Julia 1.4.1",
   "language": "julia",
   "name": "julia-1.4"
  },
  "language_info": {
   "file_extension": ".jl",
   "mimetype": "application/julia",
   "name": "julia",
   "version": "1.4.1"
  }
 },
 "nbformat": 4,
 "nbformat_minor": 2
}
